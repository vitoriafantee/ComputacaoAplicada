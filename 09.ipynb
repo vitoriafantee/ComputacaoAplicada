{
 "cells": [
  {
   "cell_type": "code",
   "execution_count": null,
   "id": "4badf04d-9dfb-4e84-bb90-379fb851c4c1",
   "metadata": {},
   "outputs": [
    {
     "name": "stdout",
     "output_type": "stream",
     "text": [
      "selecione a operação desejada:\n",
      " 0: encerrar\n",
      " 1: adição\n",
      " 2: subtração\n",
      " 3: multiplicação\n",
      " 4: divisão\n"
     ]
    },
    {
     "name": "stdin",
     "output_type": "stream",
     "text": [
      "primeiro valor:  1\n",
      "segundo valor:  1\n"
     ]
    },
    {
     "name": "stdout",
     "output_type": "stream",
     "text": [
      "a operação é inválida.\n",
      "=======================\n",
      "\n",
      "selecione a operação desejada:\n",
      " 0: encerrar\n",
      " 1: adição\n",
      " 2: subtração\n",
      " 3: multiplicação\n",
      " 4: divisão\n"
     ]
    }
   ],
   "source": [
    "# função de soma\n",
    "def soma(x, y):\n",
    "    return x + y\n",
    "\n",
    "# função de subtração\n",
    "def sub(x,y):\n",
    "    return x - y\n",
    "\n",
    "# função de multiplicação\n",
    "def multi(x, y):\n",
    "    return x * y\n",
    "\n",
    "# função de divisão\n",
    "def div(x, y):\n",
    "    return x / y\n",
    "\n",
    "# valida operação \n",
    "def validaop(op):\n",
    "    return op >= 0 or op <= 4\n",
    "    \n",
    "while True:\n",
    "    # interface\n",
    "    print('selecione a operação desejada:')\n",
    "    print(' 0: encerrar')\n",
    "    print(' 1: adição')\n",
    "    print(' 2: subtração')\n",
    "    print(' 3: multiplicação')\n",
    "    print(' 4: divisão')\n",
    "\n",
    "    oper = -1\n",
    "    while not validaop(oper):\n",
    "        oper = int(input('sua escolha: '))\n",
    "        if not validaop(oper):\n",
    "            print('a operação escolhida é inválida')\n",
    "\n",
    "    if oper == 0:\n",
    "        print('fim')\n",
    "        break \n",
    "    oper = int(input('sua escolha: '))    \n",
    "    num1 = float(input('primeiro valor: '))\n",
    "    num2 = float(input('segundo valor: '))\n",
    "\n",
    "    if oper == 1:\n",
    "        print(f'{num1} + {num2} = {soma(num1, num2)}')\n",
    "    elif oper == 2:\n",
    "        print(f'{num1} - {num2} = {sub(num1, num2)}')\n",
    "    elif oper == 3:\n",
    "        print(f'{num1} * {num2} = {multi(num1, num2)}')    \n",
    "    elif oper == 4:\n",
    "        print(f'{num1} / {num2} = {div(num1, num2)}')\n",
    "    else:\n",
    "        print('a operação é inválida.')\n",
    "    print('=======================\\n')"
   ]
  },
  {
   "cell_type": "code",
   "execution_count": null,
   "id": "63c9ebdb-bdf5-4e3e-8941-f016be2cc48f",
   "metadata": {},
   "outputs": [],
   "source": []
  }
 ],
 "metadata": {
  "kernelspec": {
   "display_name": "Python 3 (ipykernel)",
   "language": "python",
   "name": "python3"
  },
  "language_info": {
   "codemirror_mode": {
    "name": "ipython",
    "version": 3
   },
   "file_extension": ".py",
   "mimetype": "text/x-python",
   "name": "python",
   "nbconvert_exporter": "python",
   "pygments_lexer": "ipython3",
   "version": "3.9.13"
  }
 },
 "nbformat": 4,
 "nbformat_minor": 5
}
