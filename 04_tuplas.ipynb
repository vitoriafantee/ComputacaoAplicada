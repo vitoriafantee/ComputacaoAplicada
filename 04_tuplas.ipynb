{
 "cells": [
  {
   "cell_type": "code",
   "execution_count": 4,
   "id": "109688f5-86fa-4d83-8683-1c43a48610ae",
   "metadata": {},
   "outputs": [
    {
     "name": "stdout",
     "output_type": "stream",
     "text": [
      "<class 'tuple'>\n",
      "<class 'str'>\n",
      "<class 'int'>\n",
      "<class 'list'>\n"
     ]
    }
   ],
   "source": [
    "t1 = ('Engenharia', 'Unochapecó', 10, [10, 20])\n",
    "print(type(t1))\n",
    "print(type(t1[0]))\n",
    "print(type(t1[2]))\n",
    "print(type(t1[3]))\n"
   ]
  },
  {
   "cell_type": "code",
   "execution_count": 5,
   "id": "0c120914-3466-4cab-b819-7c8a68bd5c41",
   "metadata": {},
   "outputs": [
    {
     "name": "stdout",
     "output_type": "stream",
     "text": [
      "20\n"
     ]
    }
   ],
   "source": [
    "print(t1[3][1])"
   ]
  },
  {
   "cell_type": "code",
   "execution_count": 6,
   "id": "e5c56e2a-9d06-4f24-afc6-7959d410f577",
   "metadata": {},
   "outputs": [
    {
     "name": "stdout",
     "output_type": "stream",
     "text": [
      "('Engenharia', 'Unochapecó', 10, [10, 20, 30])\n"
     ]
    }
   ],
   "source": [
    "t1[3].append(30)\n",
    "print(t1)"
   ]
  },
  {
   "cell_type": "code",
   "execution_count": 7,
   "id": "abbd7ed0-4844-4654-bf65-50d8a63b7d90",
   "metadata": {},
   "outputs": [
    {
     "name": "stdout",
     "output_type": "stream",
     "text": [
      "([10, 20, 30], 10, 'Unochapecó', 'Engenharia')\n"
     ]
    }
   ],
   "source": [
    "print(t1[::-1])"
   ]
  },
  {
   "cell_type": "markdown",
   "id": "df139c56-7152-4118-83a1-05948e46f822",
   "metadata": {},
   "source": [
    "embora não possa ser adicionado um elemento, pode-se recriar/unir a tupla para criar uma nova"
   ]
  },
  {
   "cell_type": "code",
   "execution_count": 8,
   "id": "847b719b-aa6c-4671-b7cc-ebdb1e97aa0b",
   "metadata": {},
   "outputs": [
    {
     "name": "stdout",
     "output_type": "stream",
     "text": [
      "(1, 2, 3, 4, 5, 6)\n"
     ]
    }
   ],
   "source": [
    "t2 = (1, 2, 3)\n",
    "t3 = (4, 5, 6)\n",
    "t4 = t2 + t3\n",
    "print(t4)"
   ]
  },
  {
   "cell_type": "code",
   "execution_count": 29,
   "id": "9ea3b3ee-d167-4052-b2cd-fee9ddcff71e",
   "metadata": {},
   "outputs": [
    {
     "name": "stdout",
     "output_type": "stream",
     "text": [
      "(1, 2, 3, 4, 5, 6, 1, 2, 3, 1, 2, 3, 1, 2, 3, 1, 2, 3, 1, 2, 3, 1, 2, 3, 1, 2, 3, 1, 2, 3, 1, 2, 3, 1, 2, 3, 1, 2, 3, 1, 2, 3, 1, 2, 3, 1, 2, 3, 1, 2, 3, 1, 2, 3)\n"
     ]
    }
   ],
   "source": [
    "t4 = t4 + t2\n",
    "print(t4)"
   ]
  },
  {
   "cell_type": "code",
   "execution_count": 31,
   "id": "08277034-a79b-4085-bd29-fd197c0cb3c7",
   "metadata": {},
   "outputs": [
    {
     "data": {
      "text/plain": [
       "17"
      ]
     },
     "execution_count": 31,
     "metadata": {},
     "output_type": "execute_result"
    }
   ],
   "source": [
    "t4.count(1)"
   ]
  },
  {
   "cell_type": "code",
   "execution_count": 32,
   "id": "53b8b479-f857-4a0a-9431-c6803d670631",
   "metadata": {},
   "outputs": [
    {
     "data": {
      "text/plain": [
       "5"
      ]
     },
     "execution_count": 32,
     "metadata": {},
     "output_type": "execute_result"
    }
   ],
   "source": [
    "t4.index(6)"
   ]
  },
  {
   "cell_type": "code",
   "execution_count": 33,
   "id": "d2e4836e-e9ce-4a77-91af-94c3e12481bf",
   "metadata": {},
   "outputs": [
    {
     "name": "stdout",
     "output_type": "stream",
     "text": [
      "{40, 10, 20, 30}\n"
     ]
    }
   ],
   "source": [
    "c1 = {10, 20, 30}\n",
    "c2 = {30, 40, 50}\n",
    "c1.add(40)\n",
    "print(c1)"
   ]
  },
  {
   "cell_type": "markdown",
   "id": "a02582dc-2f85-44bc-a8ef-dc839aa6b82c",
   "metadata": {},
   "source": [
    "intersecção do conjunto:"
   ]
  },
  {
   "cell_type": "code",
   "execution_count": 35,
   "id": "4ca42866-e340-433c-9c60-3b71cb9a7c57",
   "metadata": {},
   "outputs": [
    {
     "name": "stdout",
     "output_type": "stream",
     "text": [
      "{40, 30}\n"
     ]
    }
   ],
   "source": [
    "print(c1 & c2)"
   ]
  },
  {
   "cell_type": "markdown",
   "id": "4c2cf593-d669-4aa4-a909-d8650ccdbc27",
   "metadata": {},
   "source": [
    "união"
   ]
  },
  {
   "cell_type": "code",
   "execution_count": 36,
   "id": "8f4d9a9d-cdd6-4f74-ad60-20f25dea2c0a",
   "metadata": {},
   "outputs": [
    {
     "name": "stdout",
     "output_type": "stream",
     "text": [
      "{50, 20, 40, 10, 30}\n"
     ]
    }
   ],
   "source": [
    "print(c1 | c2)"
   ]
  },
  {
   "cell_type": "markdown",
   "id": "c79facd8-c00a-4120-943d-8e2110c7b268",
   "metadata": {},
   "source": [
    "para consultar se um elemento faz parte do conjunto:"
   ]
  },
  {
   "cell_type": "code",
   "execution_count": 37,
   "id": "a19cd350-a14e-4f3d-9681-488673143d19",
   "metadata": {},
   "outputs": [
    {
     "name": "stdout",
     "output_type": "stream",
     "text": [
      "False\n"
     ]
    }
   ],
   "source": [
    "print(20 in c2)"
   ]
  },
  {
   "cell_type": "code",
   "execution_count": 38,
   "id": "1fde5794-9e95-47b6-adfd-3f7b5c43eec0",
   "metadata": {},
   "outputs": [
    {
     "name": "stdout",
     "output_type": "stream",
     "text": [
      "True\n"
     ]
    }
   ],
   "source": [
    "print(30 in c2)"
   ]
  },
  {
   "cell_type": "markdown",
   "id": "450442f7-f340-4cc3-98e4-b11322bb108c",
   "metadata": {},
   "source": [
    "dicionários"
   ]
  },
  {
   "cell_type": "code",
   "execution_count": 39,
   "id": "7c789d1e-e07c-49dd-8a0b-64ad55970608",
   "metadata": {},
   "outputs": [
    {
     "name": "stdout",
     "output_type": "stream",
     "text": [
      "19\n"
     ]
    }
   ],
   "source": [
    "idades = {'João':20, 'Maria':19, 'Mario':18}\n",
    "print(idades['Maria'])"
   ]
  },
  {
   "cell_type": "markdown",
   "id": "0f5b633d-7b62-4a75-8a66-8435b15e13bf",
   "metadata": {},
   "source": [
    "principais métodos"
   ]
  },
  {
   "cell_type": "code",
   "execution_count": 40,
   "id": "2f302b1d-885e-4640-aa7d-fc6096a245a8",
   "metadata": {},
   "outputs": [
    {
     "name": "stdout",
     "output_type": "stream",
     "text": [
      "dict_keys(['João', 'Maria', 'Mario'])\n"
     ]
    }
   ],
   "source": [
    "print(idades.keys())"
   ]
  },
  {
   "cell_type": "code",
   "execution_count": 41,
   "id": "5b094148-15fd-4cf0-9161-71ec6f0746fe",
   "metadata": {},
   "outputs": [
    {
     "name": "stdout",
     "output_type": "stream",
     "text": [
      "dict_values([20, 19, 18])\n"
     ]
    }
   ],
   "source": [
    "print(idades.values())"
   ]
  },
  {
   "cell_type": "code",
   "execution_count": 43,
   "id": "b9a9a6a3-f320-4a9f-9d1d-fdf4850bf199",
   "metadata": {},
   "outputs": [
    {
     "name": "stdout",
     "output_type": "stream",
     "text": [
      "{'João': 20, 'Maria': 23, 'Mario': 18}\n"
     ]
    }
   ],
   "source": [
    "idades.update({'Maria':23})\n",
    "print(idades)"
   ]
  },
  {
   "cell_type": "code",
   "execution_count": 44,
   "id": "c5e367da-8745-4041-8ccb-4ea4d74ad9f0",
   "metadata": {},
   "outputs": [
    {
     "name": "stdout",
     "output_type": "stream",
     "text": [
      "{'João': 20, 'Maria': 23, 'Mario': 26}\n"
     ]
    }
   ],
   "source": [
    "idades['Mario'] = 26\n",
    "print(idades)"
   ]
  },
  {
   "cell_type": "markdown",
   "id": "f0e6d52a-9018-40a4-8c40-6cd81c3675b2",
   "metadata": {},
   "source": [
    "não ocorre nenhuma validação dos dados inseridos, é responsabilidade do desenvolvedor tomar esse cuidado"
   ]
  },
  {
   "cell_type": "code",
   "execution_count": 45,
   "id": "6245ec58-009b-4943-8952-db75007eefce",
   "metadata": {},
   "outputs": [
    {
     "name": "stdout",
     "output_type": "stream",
     "text": [
      "{'João': 20, 'Maria': 23, 'Mario': [100, 110, 140]}\n"
     ]
    }
   ],
   "source": [
    "idades['Mario'] = [100, 110, 140]\n",
    "print(idades)"
   ]
  }
 ],
 "metadata": {
  "kernelspec": {
   "display_name": "Python 3 (ipykernel)",
   "language": "python",
   "name": "python3"
  },
  "language_info": {
   "codemirror_mode": {
    "name": "ipython",
    "version": 3
   },
   "file_extension": ".py",
   "mimetype": "text/x-python",
   "name": "python",
   "nbconvert_exporter": "python",
   "pygments_lexer": "ipython3",
   "version": "3.9.13"
  }
 },
 "nbformat": 4,
 "nbformat_minor": 5
}
