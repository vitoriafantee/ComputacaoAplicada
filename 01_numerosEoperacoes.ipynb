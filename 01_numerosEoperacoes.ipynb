{
 "cells": [
  {
   "cell_type": "markdown",
   "id": "f3b156c7-883b-4da0-9657-0608282d2c44",
   "metadata": {},
   "source": [
    "<h3> manipulação de números e operações matemáticas </h3>\n",
    "<h5> definição e inspeção de tipos de variáveis\n",
    "    "
   ]
  },
  {
   "cell_type": "code",
   "execution_count": 5,
   "id": "73cea7d4-a826-4ae9-98ed-6c3f3be986c5",
   "metadata": {},
   "outputs": [],
   "source": [
    "import math\n",
    "import random"
   ]
  },
  {
   "cell_type": "code",
   "execution_count": 1,
   "id": "71328b53-8693-459a-ad94-5bad54fe7d67",
   "metadata": {},
   "outputs": [
    {
     "name": "stdout",
     "output_type": "stream",
     "text": [
      "15\n",
      "<class 'int'>\n"
     ]
    }
   ],
   "source": [
    "# definição de um número inteiro\n",
    "num_int = 15\n",
    "print (num_int)\n",
    "print (type(num_int))"
   ]
  },
  {
   "cell_type": "code",
   "execution_count": 2,
   "id": "60df7e58-e5f6-465f-9bc7-6a85ebdda7a9",
   "metadata": {},
   "outputs": [
    {
     "name": "stdout",
     "output_type": "stream",
     "text": [
      "-12.34\n",
      "<class 'float'>\n"
     ]
    }
   ],
   "source": [
    "# definição de um número fracionário (float)\n",
    "num_float = -12.34\n",
    "print(num_float)\n",
    "print(type(num_float))"
   ]
  },
  {
   "cell_type": "code",
   "execution_count": 4,
   "id": "c81f341d-13db-4573-b6c7-10a03bcd8453",
   "metadata": {},
   "outputs": [
    {
     "name": "stdout",
     "output_type": "stream",
     "text": [
      "1.234\n",
      "<class 'float'>\n",
      "1\n",
      "<class 'int'>\n"
     ]
    }
   ],
   "source": [
    "# conversão para um número inteiro\n",
    "a = 1.234\n",
    "print(a)\n",
    "print(type(a))\n",
    "b = int(a)\n",
    "print(b)\n",
    "print(type(b))"
   ]
  },
  {
   "cell_type": "code",
   "execution_count": 11,
   "id": "5ec410f8-21d6-48cc-b469-c57c1416f13e",
   "metadata": {},
   "outputs": [],
   "source": [
    "z = 5"
   ]
  },
  {
   "cell_type": "code",
   "execution_count": 26,
   "id": "6226c8f8-42a7-4d95-98bb-e7872a42a39a",
   "metadata": {},
   "outputs": [
    {
     "name": "stdout",
     "output_type": "stream",
     "text": [
      "155\n"
     ]
    }
   ],
   "source": [
    "# atribuição com incremento\n",
    "# a cada execução da célula, o valor de z é alterado\n",
    "z += 10\n",
    "print(z)\n"
   ]
  },
  {
   "cell_type": "markdown",
   "id": "f26010cc-1ead-4025-9b77-00d89294c759",
   "metadata": {},
   "source": [
    "<h3> operadores lógicos </h3>"
   ]
  },
  {
   "cell_type": "code",
   "execution_count": 30,
   "id": "efafcbaa-b93e-4f70-b36d-b8fa8b6a724d",
   "metadata": {},
   "outputs": [
    {
     "name": "stdout",
     "output_type": "stream",
     "text": [
      "True\n"
     ]
    }
   ],
   "source": [
    "# teste da expressão lógica - tabela verdade\n",
    "p = True\n",
    "q = False\n",
    "t = True\n",
    "s = p and q or t\n",
    "print(s)"
   ]
  },
  {
   "cell_type": "markdown",
   "id": "a2563289-652a-42c7-8337-d749f5fc1581",
   "metadata": {},
   "source": [
    "<h3> outras operações matemáticas </h3>"
   ]
  },
  {
   "cell_type": "code",
   "execution_count": 31,
   "id": "9db4d1f6-c7a9-4e19-9ac7-4015aa586186",
   "metadata": {},
   "outputs": [
    {
     "name": "stdout",
     "output_type": "stream",
     "text": [
      "74\n"
     ]
    }
   ],
   "source": [
    "# máximo de uma lista\n",
    "print(max([13, 17, 25, 39, 74, 23]))"
   ]
  },
  {
   "cell_type": "code",
   "execution_count": 32,
   "id": "1476d675-5796-4aaa-aacc-e6784816231f",
   "metadata": {},
   "outputs": [
    {
     "name": "stdout",
     "output_type": "stream",
     "text": [
      "23\n"
     ]
    }
   ],
   "source": [
    "# valor absoluto (sem sinal)\n",
    "print(abs(-23))"
   ]
  },
  {
   "cell_type": "code",
   "execution_count": 33,
   "id": "afaeeeb2-69a2-4030-8607-81d012585e56",
   "metadata": {},
   "outputs": [
    {
     "data": {
      "text/plain": [
       "2"
      ]
     },
     "execution_count": 33,
     "metadata": {},
     "output_type": "execute_result"
    }
   ],
   "source": [
    "# arredondamento para o inteiro mais próximo acima\n",
    "math.ceil(1.78)\n"
   ]
  },
  {
   "cell_type": "code",
   "execution_count": 34,
   "id": "e37266bf-0df1-4dc4-a4a2-bb4114963f4f",
   "metadata": {},
   "outputs": [
    {
     "data": {
      "text/plain": [
       "3"
      ]
     },
     "execution_count": 34,
     "metadata": {},
     "output_type": "execute_result"
    }
   ],
   "source": [
    "# arredondamento para o inteiro mais próximo abaixo \n",
    "math.floor(3.98)"
   ]
  },
  {
   "cell_type": "code",
   "execution_count": 36,
   "id": "911f04b2-b473-41bf-84b4-19389285ff97",
   "metadata": {},
   "outputs": [
    {
     "data": {
      "text/plain": [
       "4"
      ]
     },
     "execution_count": 36,
     "metadata": {},
     "output_type": "execute_result"
    }
   ],
   "source": [
    "# arredondamento para o inteiro mais próximo (não está na biblioteca math)\n",
    "round(4.49)"
   ]
  }
 ],
 "metadata": {
  "kernelspec": {
   "display_name": "Python 3 (ipykernel)",
   "language": "python",
   "name": "python3"
  },
  "language_info": {
   "codemirror_mode": {
    "name": "ipython",
    "version": 3
   },
   "file_extension": ".py",
   "mimetype": "text/x-python",
   "name": "python",
   "nbconvert_exporter": "python",
   "pygments_lexer": "ipython3",
   "version": "3.9.13"
  }
 },
 "nbformat": 4,
 "nbformat_minor": 5
}
