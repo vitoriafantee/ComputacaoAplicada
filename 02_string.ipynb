{
 "cells": [
  {
   "cell_type": "markdown",
   "id": "06dfeef8-09d9-4c15-9014-e93b0ceab586",
   "metadata": {},
   "source": [
    "<h3> strings e manipulação de textos </h3>\n",
    "\n",
    "<h5> criação de strings </h5>"
   ]
  },
  {
   "cell_type": "code",
   "execution_count": 1,
   "id": "73e17b39-d4b0-43c6-aa3a-a34f423091e6",
   "metadata": {},
   "outputs": [
    {
     "name": "stdout",
     "output_type": "stream",
     "text": [
      "esta é uma string\n",
      "<class 'str'>\n"
     ]
    }
   ],
   "source": [
    "minhastring = 'esta é uma string'\n",
    "print(minhastring)\n",
    "print(type(minhastring))"
   ]
  },
  {
   "cell_type": "markdown",
   "id": "9729bec0-5f0a-432f-9ba4-b8cf01c65d1d",
   "metadata": {},
   "source": [
    "<h5> definição de string com aspas duplas </j5>"
   ]
  },
  {
   "cell_type": "code",
   "execution_count": 2,
   "id": "6eef590f-97fc-4f35-af3c-0a1cf61ddfda",
   "metadata": {},
   "outputs": [
    {
     "name": "stdout",
     "output_type": "stream",
     "text": [
      "testando strings em python\n"
     ]
    }
   ],
   "source": [
    "print(\"testando strings em python\")"
   ]
  },
  {
   "cell_type": "markdown",
   "id": "c868860a-9bb1-49b6-a53e-fe5a83034d4c",
   "metadata": {},
   "source": [
    "utilização de caracteres especiais        \n",
    "* \\n : cria nova linha\n",
    "* \\t : caractere de tabulação\n",
    "* \\\\' : aspa simples\n",
    "* \\\\'': aspas duplas"
   ]
  },
  {
   "cell_type": "code",
   "execution_count": 4,
   "id": "b1ec05ea-f43a-4db1-952e-ec3724acd3ec",
   "metadata": {},
   "outputs": [
    {
     "name": "stdout",
     "output_type": "stream",
     "text": [
      "teste\n",
      "de 'strings'\n"
     ]
    }
   ],
   "source": [
    "print('teste\\nde \\'strings\\'')"
   ]
  },
  {
   "cell_type": "markdown",
   "id": "8606dad9-7178-4c0b-b2da-54558abc17ef",
   "metadata": {},
   "source": [
    "definição de strings longas"
   ]
  },
  {
   "cell_type": "code",
   "execution_count": 7,
   "id": "30c5e5b2-a4c1-4d03-8c29-5be6f19608b1",
   "metadata": {},
   "outputs": [
    {
     "name": "stdout",
     "output_type": "stream",
     "text": [
      "exemplo de definição de uma string longa em Python\n"
     ]
    }
   ],
   "source": [
    "texto1 =  '''exemplo de definição de \\\n",
    "uma string longa em Python'''\n",
    "print(texto1)"
   ]
  },
  {
   "cell_type": "markdown",
   "id": "8c06878e-8fbb-4d8f-9a1e-2ac4d24b6123",
   "metadata": {},
   "source": [
    "<h3> indexação de strings: </h3>"
   ]
  },
  {
   "cell_type": "code",
   "execution_count": 8,
   "id": "e498e8f9-1ecc-40ae-a0bb-1a0a5204a2c2",
   "metadata": {},
   "outputs": [
    {
     "name": "stdout",
     "output_type": "stream",
     "text": [
      "e\n",
      "x\n",
      "e\n"
     ]
    }
   ],
   "source": [
    "print(texto1[0])\n",
    "print(texto1[1])\n",
    "print(texto1[2])"
   ]
  },
  {
   "cell_type": "code",
   "execution_count": 11,
   "id": "69d6375e-2326-4e77-8b5a-e1de615e2990",
   "metadata": {},
   "outputs": [
    {
     "name": "stdout",
     "output_type": "stream",
     "text": [
      "exemp\n",
      "ring longa em Python\n"
     ]
    }
   ],
   "source": [
    "print(texto1[:5])\n",
    "print(texto1[30:])"
   ]
  },
  {
   "cell_type": "code",
   "execution_count": 12,
   "id": "d2ea20b3-1f4b-4ec3-b980-146edea46a03",
   "metadata": {},
   "outputs": [
    {
     "name": "stdout",
     "output_type": "stream",
     "text": [
      "ócepahconu\n"
     ]
    }
   ],
   "source": [
    "str = 'unochapecó'\n",
    "print(str[::-1])"
   ]
  },
  {
   "cell_type": "markdown",
   "id": "ffdf1224-1021-46ca-93dc-fa6774bbcd18",
   "metadata": {},
   "source": [
    "<h3> métodos com strings </h3>"
   ]
  },
  {
   "cell_type": "code",
   "execution_count": 13,
   "id": "54597e11-dcb5-41c6-89e9-c0ef1fcfcd0c",
   "metadata": {},
   "outputs": [
    {
     "data": {
      "text/plain": [
       "True"
      ]
     },
     "execution_count": 13,
     "metadata": {},
     "output_type": "execute_result"
    }
   ],
   "source": [
    "str1 = '21'\n",
    "str1.isdecimal()"
   ]
  },
  {
   "cell_type": "code",
   "execution_count": 14,
   "id": "2ad5e929-7a29-41e2-b68f-17531598a311",
   "metadata": {},
   "outputs": [
    {
     "data": {
      "text/plain": [
       "'UNOCHAPECÓ'"
      ]
     },
     "execution_count": 14,
     "metadata": {},
     "output_type": "execute_result"
    }
   ],
   "source": [
    "str.upper()"
   ]
  },
  {
   "cell_type": "code",
   "execution_count": 16,
   "id": "832eb610-503f-4bad-8dae-f9577d36c571",
   "metadata": {},
   "outputs": [
    {
     "name": "stdout",
     "output_type": "stream",
     "text": [
      "computação aplicada para engenharia\n",
      "COMPUTAÇÃO APLICADA PARA ENGENHARIA\n",
      "Computação Aplicada Para Engenharia\n"
     ]
    }
   ],
   "source": [
    "str2 = 'Computação aplicada para Engenharia'\n",
    "print(str2.lower())\n",
    "print(str2.upper())\n",
    "print(str2.title())"
   ]
  },
  {
   "cell_type": "code",
   "execution_count": 20,
   "id": "86d54244-6b1f-4fa6-8f01-6d1e5d00ee46",
   "metadata": {},
   "outputs": [
    {
     "data": {
      "text/plain": [
       "True"
      ]
     },
     "execution_count": 20,
     "metadata": {},
     "output_type": "execute_result"
    }
   ],
   "source": [
    "fruta = 'Laranja'\n",
    "fruta.upper() == 'LARANJA'"
   ]
  },
  {
   "cell_type": "markdown",
   "id": "009e8a6c-7cc1-476a-8773-9728a374e8da",
   "metadata": {},
   "source": [
    "<h3> interpolação de strings </h3>"
   ]
  },
  {
   "cell_type": "code",
   "execution_count": 21,
   "id": "054c4473-2991-4309-ad4f-f19a6abe34e0",
   "metadata": {},
   "outputs": [
    {
     "name": "stdout",
     "output_type": "stream",
     "text": [
      "a soma de a = 20 + b = 50 é igual a 70.\n"
     ]
    }
   ],
   "source": [
    "a = 20\n",
    "b = 50\n",
    "print(f'a soma de a = {a} + b = {b} é igual a {a + b}.') "
   ]
  },
  {
   "cell_type": "code",
   "execution_count": 24,
   "id": "04ea3435-aa69-4e22-85ce-1812a5debe24",
   "metadata": {},
   "outputs": [
    {
     "name": "stdout",
     "output_type": "stream",
     "text": [
      "o produto de x e y é 54.39\n",
      "o resultado completo é 54.393607570752756\n"
     ]
    }
   ],
   "source": [
    "x = 23.1621982\n",
    "y = 2.34837847\n",
    "z = x * y\n",
    "print(f'o produto de x e y é {z:.2f}')\n",
    "print(f'o resultado completo é {z}')"
   ]
  }
 ],
 "metadata": {
  "kernelspec": {
   "display_name": "Python 3 (ipykernel)",
   "language": "python",
   "name": "python3"
  },
  "language_info": {
   "codemirror_mode": {
    "name": "ipython",
    "version": 3
   },
   "file_extension": ".py",
   "mimetype": "text/x-python",
   "name": "python",
   "nbconvert_exporter": "python",
   "pygments_lexer": "ipython3",
   "version": "3.9.13"
  }
 },
 "nbformat": 4,
 "nbformat_minor": 5
}
