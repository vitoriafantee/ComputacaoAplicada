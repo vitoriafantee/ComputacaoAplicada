{
 "cells": [
  {
   "cell_type": "code",
   "execution_count": null,
   "id": "3243d016-7646-42e6-b9ef-376c5568150f",
   "metadata": {},
   "outputs": [
    {
     "name": "stdout",
     "output_type": "stream",
     "text": [
      "selecione a operação desejada:\n",
      " 1: adição\n",
      " 2: subtração\n",
      " 3: multiplicação\n",
      " 4: divisão\n"
     ]
    }
   ],
   "source": [
    "# função de soma\n",
    "def soma(x, y):\n",
    "    return x + y\n",
    "\n",
    "# função de subtração\n",
    "def sub(x,y):\n",
    "    return x - y\n",
    "\n",
    "# função de multiplicação\n",
    "def multi(x, y):\n",
    "    return x * y\n",
    "\n",
    "# função de divisão\n",
    "def div(x, y):\n",
    "    return x / y\n",
    "\n",
    "# interface\n",
    "print('selecione a operação desejada:')\n",
    "print(' 1: adição')\n",
    "print(' 2: subtração')\n",
    "print(' 3: multiplicação')\n",
    "print(' 4: divisão')\n",
    "\n",
    "oper = int(input('sua escolha: '))\n",
    "num1 = float(input('primeiro valor: '))\n",
    "num2 = float(input('segundo valor: '))\n",
    "\n",
    "if oper ==1:\n",
    "    print(f'{num1} + {num2} = {soma(num1, num2)}')\n",
    "elif oper == 2:\n",
    "    print(f'{num1} - {num2} = {sub(num1, num2)}')\n",
    "elif oper == 3:\n",
    "    print(f'{num1} * {num2} = {multi(num1, num2)}')    \n",
    "elif oper == 4:\n",
    "    print(f'{num1} / {num2} = {div(num1, num2)}')\n",
    "else:\n",
    "    print('a operação é inválida.')\n",
    "    "
   ]
  }
 ],
 "metadata": {
  "kernelspec": {
   "display_name": "Python 3 (ipykernel)",
   "language": "python",
   "name": "python3"
  },
  "language_info": {
   "codemirror_mode": {
    "name": "ipython",
    "version": 3
   },
   "file_extension": ".py",
   "mimetype": "text/x-python",
   "name": "python",
   "nbconvert_exporter": "python",
   "pygments_lexer": "ipython3",
   "version": "3.9.13"
  }
 },
 "nbformat": 4,
 "nbformat_minor": 5
}
