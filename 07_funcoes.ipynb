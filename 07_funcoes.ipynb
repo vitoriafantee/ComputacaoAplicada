{
 "cells": [
  {
   "cell_type": "markdown",
   "id": "28d6f311-230f-4584-a80b-102681ff3b7e",
   "metadata": {},
   "source": [
    "<h2>funções</h2>\n",
    "diferenças enter variáveis locais e globais"
   ]
  },
  {
   "cell_type": "code",
   "execution_count": 5,
   "id": "73a001bf-994f-470d-9e86-3b043ee582af",
   "metadata": {},
   "outputs": [
    {
     "name": "stdout",
     "output_type": "stream",
     "text": [
      "10\n",
      "18\n",
      "63\n",
      "10\n"
     ]
    }
   ],
   "source": [
    "res = 10 # esta é uma variável global\n",
    "\n",
    "def multi(num1, num2):\n",
    "    res = num1 * num2 # agora res é uma variável local (existe apenas dentro da função)\n",
    "    \n",
    "    print(res)\n",
    "    \n",
    "print(res)\n",
    "multi(3,6)\n",
    "multi(9, 7)\n",
    "print(res)"
   ]
  },
  {
   "cell_type": "markdown",
   "id": "b95f28f7-16bc-4bb5-8421-a4a561a35d19",
   "metadata": {},
   "source": [
    "na função multi não há validação para confirmar se os argumentos são numéricos"
   ]
  },
  {
   "cell_type": "markdown",
   "id": "9f5ccb17-9520-4a21-938b-65baa661c242",
   "metadata": {},
   "source": [
    "versão melhorada da função de multiplicação:"
   ]
  },
  {
   "cell_type": "code",
   "execution_count": 27,
   "id": "a1bd8a8d-35d8-41f9-b14a-5a599b8deeeb",
   "metadata": {},
   "outputs": [],
   "source": [
    "def validanum(x):\n",
    "    return (type(x) == float) # or (type(x) == int)\n",
    "\n",
    "def multi2(num1, num2):\n",
    "    num1_numerico = validanum(num1)\n",
    "    num2_numerico = validanum(num2)\n",
    "    \n",
    "    if num1_numerico and num2_numerico:\n",
    "        res = num1 * num2\n",
    "        print(res)\n",
    "    else:\n",
    "        print('os argumentos num1 e num2 devem ser numéricos!')\n",
    "              "
   ]
  },
  {
   "cell_type": "code",
   "execution_count": 19,
   "id": "39e2bbee-0b9b-48f7-ade8-af794ac068f4",
   "metadata": {},
   "outputs": [
    {
     "data": {
      "text/plain": [
       "True"
      ]
     },
     "execution_count": 19,
     "metadata": {},
     "output_type": "execute_result"
    }
   ],
   "source": [
    "validanum(43523.6)"
   ]
  },
  {
   "cell_type": "markdown",
   "id": "d8c0968e-ef78-4be4-b455-1856fbf3f24a",
   "metadata": {},
   "source": [
    "passagem de argumentos e argumentos padrão"
   ]
  },
  {
   "cell_type": "code",
   "execution_count": 29,
   "id": "c441248b-5970-42e7-a517-cea339fed0d5",
   "metadata": {},
   "outputs": [],
   "source": [
    "def mpais(pais = 'brasil'):\n",
    "    print(f'meu país é {pais}.')"
   ]
  },
  {
   "cell_type": "code",
   "execution_count": 31,
   "id": "0f845eb6-66ed-4f61-b69f-5ddf498da8d7",
   "metadata": {},
   "outputs": [
    {
     "name": "stdout",
     "output_type": "stream",
     "text": [
      "meu país é uruguai.\n",
      "meu país é brasil.\n"
     ]
    }
   ],
   "source": [
    "mpais('uruguai')\n",
    "mpais()"
   ]
  },
  {
   "cell_type": "code",
   "execution_count": null,
   "id": "24c0cce7-a84c-41e2-86e1-96f8f6c0421b",
   "metadata": {},
   "outputs": [],
   "source": []
  }
 ],
 "metadata": {
  "kernelspec": {
   "display_name": "Python 3 (ipykernel)",
   "language": "python",
   "name": "python3"
  },
  "language_info": {
   "codemirror_mode": {
    "name": "ipython",
    "version": 3
   },
   "file_extension": ".py",
   "mimetype": "text/x-python",
   "name": "python",
   "nbconvert_exporter": "python",
   "pygments_lexer": "ipython3",
   "version": "3.9.13"
  }
 },
 "nbformat": 4,
 "nbformat_minor": 5
}
