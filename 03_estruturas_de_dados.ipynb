{
 "cells": [
  {
   "cell_type": "markdown",
   "id": "b75d2e80-d87d-4131-8ae4-f22ac650b08d",
   "metadata": {},
   "source": [
    "<h3> estruturas de dados </h3>\n",
    "<h4> listas </h4>"
   ]
  },
  {
   "cell_type": "code",
   "execution_count": 1,
   "id": "310bd596-c6bc-44e3-b8fc-3dbeddf25d34",
   "metadata": {},
   "outputs": [],
   "source": [
    "listamercado = ['arroz', 'feijao', 'ovos']"
   ]
  },
  {
   "cell_type": "markdown",
   "id": "012baa5a-503b-4ef5-838c-2309d8121ff1",
   "metadata": {},
   "source": [
    "a indexação é feita da mesma forma que nas strings\n"
   ]
  },
  {
   "cell_type": "code",
   "execution_count": 2,
   "id": "b39a9f3f-3378-4fa2-b006-3452ed166cd1",
   "metadata": {},
   "outputs": [
    {
     "name": "stdout",
     "output_type": "stream",
     "text": [
      "ovos\n"
     ]
    }
   ],
   "source": [
    "print(listamercado[2])"
   ]
  },
  {
   "cell_type": "code",
   "execution_count": 4,
   "id": "bc387306-e032-4387-8c0c-df7eb8d2d0b1",
   "metadata": {},
   "outputs": [
    {
     "name": "stdout",
     "output_type": "stream",
     "text": [
      "['ovos', 'feijao', 'arroz']\n"
     ]
    }
   ],
   "source": [
    "print(listamercado[::-1])"
   ]
  },
  {
   "cell_type": "markdown",
   "id": "6aab6162-3759-4a67-8207-b14b51016b87",
   "metadata": {},
   "source": [
    "listas podem ser aninhadas (listas dentro de listas), permitindo a construção de estruturas mais complexas (como matrizes)"
   ]
  },
  {
   "cell_type": "code",
   "execution_count": 5,
   "id": "c5286e59-507c-4f12-8f13-89dbe09c4d05",
   "metadata": {},
   "outputs": [],
   "source": [
    "matriz = [[1, 2, 3], [4, 5, 6], [7, 8, 9]]"
   ]
  },
  {
   "cell_type": "code",
   "execution_count": 6,
   "id": "1953715f-26bc-4beb-aa05-519fb2fc3cf5",
   "metadata": {},
   "outputs": [
    {
     "data": {
      "text/plain": [
       "6"
      ]
     },
     "execution_count": 6,
     "metadata": {},
     "output_type": "execute_result"
    }
   ],
   "source": [
    "matriz[1][2]"
   ]
  },
  {
   "cell_type": "code",
   "execution_count": 8,
   "id": "b3eac15a-81c3-4b14-89df-b7e38568c2b4",
   "metadata": {},
   "outputs": [
    {
     "name": "stdout",
     "output_type": "stream",
     "text": [
      "[7, 8, 9]\n",
      "7\n"
     ]
    }
   ],
   "source": [
    "linha = 2\n",
    "coluna = 0\n",
    "print(matriz[linha])\n",
    "print(matriz[linha][coluna])"
   ]
  },
  {
   "cell_type": "code",
   "execution_count": 9,
   "id": "6fac697d-1107-4c54-b9da-f7f51b51e32a",
   "metadata": {},
   "outputs": [
    {
     "name": "stdout",
     "output_type": "stream",
     "text": [
      "[[1, 2, 3], [4, 5, 6], [7, 8, 99]]\n"
     ]
    }
   ],
   "source": [
    "matriz[2][2] = 99\n",
    "print(matriz)"
   ]
  },
  {
   "cell_type": "code",
   "execution_count": 11,
   "id": "f1224fd0-c826-4ea2-b8aa-14cf176d7fb6",
   "metadata": {},
   "outputs": [
    {
     "name": "stdout",
     "output_type": "stream",
     "text": [
      "[[1, 2, ['oi', 'tchau']], [4, 5, 6], [7, 8, 99]]\n"
     ]
    }
   ],
   "source": [
    "matriz[0][2] = ['oi', 'tchau']\n",
    "print(matriz)"
   ]
  },
  {
   "cell_type": "code",
   "execution_count": 12,
   "id": "2f78312c-43f7-4a30-8e61-4a351f6cae84",
   "metadata": {},
   "outputs": [
    {
     "name": "stdout",
     "output_type": "stream",
     "text": [
      "tchau\n"
     ]
    }
   ],
   "source": [
    "print(matriz[0][2][1])"
   ]
  }
 ],
 "metadata": {
  "kernelspec": {
   "display_name": "Python 3 (ipykernel)",
   "language": "python",
   "name": "python3"
  },
  "language_info": {
   "codemirror_mode": {
    "name": "ipython",
    "version": 3
   },
   "file_extension": ".py",
   "mimetype": "text/x-python",
   "name": "python",
   "nbconvert_exporter": "python",
   "pygments_lexer": "ipython3",
   "version": "3.9.13"
  }
 },
 "nbformat": 4,
 "nbformat_minor": 5
}
