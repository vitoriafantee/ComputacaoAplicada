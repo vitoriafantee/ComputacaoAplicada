{
 "cells": [
  {
   "cell_type": "markdown",
   "id": "fc7abae8-1449-4963-806f-89c59e26ea17",
   "metadata": {},
   "source": [
    "condicionais"
   ]
  },
  {
   "cell_type": "code",
   "execution_count": 1,
   "id": "c923a71a-e6eb-4183-bac1-5bf190e59466",
   "metadata": {},
   "outputs": [
    {
     "data": {
      "text/plain": [
       "True"
      ]
     },
     "execution_count": 1,
     "metadata": {},
     "output_type": "execute_result"
    }
   ],
   "source": [
    "5 > 4"
   ]
  },
  {
   "cell_type": "code",
   "execution_count": 3,
   "id": "33f39f37-9cf7-41ff-ad0e-97831f108cf4",
   "metadata": {},
   "outputs": [
    {
     "name": "stdout",
     "output_type": "stream",
     "text": [
      "a(15) > b(13) = True\n"
     ]
    }
   ],
   "source": [
    "a = 15\n",
    "b = 13\n",
    "print(f'a({a}) > b({b}) = {a > b}')"
   ]
  },
  {
   "cell_type": "code",
   "execution_count": 9,
   "id": "ed13708d-b451-420d-a857-8d2ceacdf6ec",
   "metadata": {},
   "outputs": [
    {
     "name": "stdin",
     "output_type": "stream",
     "text": [
      "valor de a:  70\n",
      "valor de b:  69\n"
     ]
    },
    {
     "name": "stdout",
     "output_type": "stream",
     "text": [
      "a(70.0) > b(69.0) = True\n"
     ]
    }
   ],
   "source": [
    "a =  float(input('valor de a: '))\n",
    "b =  float(input('valor de b: '))\n",
    "print(f'a({a}) > b({b}) = {a > b}')"
   ]
  },
  {
   "cell_type": "code",
   "execution_count": 10,
   "id": "0382c79a-addf-4749-b9ab-a2a166fe7f27",
   "metadata": {},
   "outputs": [
    {
     "data": {
      "text/plain": [
       "float"
      ]
     },
     "execution_count": 10,
     "metadata": {},
     "output_type": "execute_result"
    }
   ],
   "source": [
    "type(a)"
   ]
  },
  {
   "cell_type": "markdown",
   "id": "7b3f699e-3427-400a-b80c-427870dfacc9",
   "metadata": {},
   "source": [
    "if/elif/else"
   ]
  },
  {
   "cell_type": "code",
   "execution_count": 14,
   "id": "de82edf1-e905-4234-87d6-d38d22b13a68",
   "metadata": {},
   "outputs": [
    {
     "name": "stdin",
     "output_type": "stream",
     "text": [
      "temperatura de hoje:  28\n"
     ]
    },
    {
     "name": "stdout",
     "output_type": "stream",
     "text": [
      "hoje está calor\n",
      "fim\n"
     ]
    }
   ],
   "source": [
    "temperatura = float(input('temperatura de hoje: '))\n",
    "if temperatura > 20:\n",
    "    print('hoje está calor')\n",
    "else:\n",
    "    print('hoje não está calor')\n",
    "print('fim')"
   ]
  },
  {
   "cell_type": "markdown",
   "id": "22718f18-08d9-4773-b78a-0e0148c7195e",
   "metadata": {},
   "source": [
    "no caso do uso do elif é importante observar a precedência dos testes"
   ]
  },
  {
   "cell_type": "code",
   "execution_count": 17,
   "id": "09276eb0-59fa-4c4b-977c-f3d9b8ba275c",
   "metadata": {},
   "outputs": [
    {
     "name": "stdout",
     "output_type": "stream",
     "text": [
      "nenhuma condição é verdadeira\n"
     ]
    }
   ],
   "source": [
    "cond1 = False\n",
    "cond2 = False\n",
    "if cond1:\n",
    "    print('a condição 1 é verdadeira')\n",
    "elif cond2:\n",
    "    print('a condição 2 é verdadeira')\n",
    "else:\n",
    "    print('nenhuma condição é verdadeira')"
   ]
  },
  {
   "cell_type": "code",
   "execution_count": 18,
   "id": "216c9be4-c191-4bcb-8544-72a63c398bfa",
   "metadata": {},
   "outputs": [
    {
     "name": "stdout",
     "output_type": "stream",
     "text": [
      "nenhuma condição é verdadeira\n"
     ]
    }
   ],
   "source": [
    "cond1 = False\n",
    "cond2 = False\n",
    "if cond1:\n",
    "    print('a condição 1 é verdadeira')\n",
    "if cond2:\n",
    "    print('a condição 2 é verdadeira')\n",
    "if not cond1 and not cond2:\n",
    "    print('nenhuma condição é verdadeira')"
   ]
  },
  {
   "cell_type": "code",
   "execution_count": 19,
   "id": "aaf4f780-a8ca-43b4-ac32-c63518e67f71",
   "metadata": {},
   "outputs": [
    {
     "name": "stdin",
     "output_type": "stream",
     "text": [
      "usuário:  vit\n",
      "senha:  6789\n"
     ]
    },
    {
     "name": "stdout",
     "output_type": "stream",
     "text": [
      "acesso permitido\n"
     ]
    }
   ],
   "source": [
    "usuario = input('usuário: ')\n",
    "senha = input('senha: ')\n",
    "if usuario.lower() == 'vit' and senha == '6789':\n",
    "    print('acesso permitido')\n",
    "else: \n",
    "    print('acesso negado')\n"
   ]
  }
 ],
 "metadata": {
  "kernelspec": {
   "display_name": "Python 3 (ipykernel)",
   "language": "python",
   "name": "python3"
  },
  "language_info": {
   "codemirror_mode": {
    "name": "ipython",
    "version": 3
   },
   "file_extension": ".py",
   "mimetype": "text/x-python",
   "name": "python",
   "nbconvert_exporter": "python",
   "pygments_lexer": "ipython3",
   "version": "3.9.13"
  }
 },
 "nbformat": 4,
 "nbformat_minor": 5
}
