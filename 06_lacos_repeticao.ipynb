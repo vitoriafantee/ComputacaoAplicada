{
 "cells": [
  {
   "cell_type": "markdown",
   "id": "56b34705-541d-45f1-b4be-8e6f605bbab4",
   "metadata": {},
   "source": [
    "laços de repetição\n",
    "\n",
    "for:"
   ]
  },
  {
   "cell_type": "code",
   "execution_count": 3,
   "id": "45ccddcf-c80d-4464-87a5-e2bcd3566854",
   "metadata": {},
   "outputs": [
    {
     "name": "stdout",
     "output_type": "stream",
     "text": [
      "<class 'list'>\n",
      "copa\n",
      "<class 'str'>\n",
      "salame\n",
      "<class 'str'>\n",
      "pinhão\n",
      "<class 'str'>\n"
     ]
    }
   ],
   "source": [
    "listamercado = ['copa', 'salame', 'pinhão']\n",
    "print(type(listamercado))\n",
    "for produto in listamercado:\n",
    "    print(produto)\n",
    "    print(type(produto))"
   ]
  },
  {
   "cell_type": "markdown",
   "id": "bfd5e6e7-f809-4929-b7f5-9fd05239a09c",
   "metadata": {},
   "source": [
    "o uso do operador range permite correlacionar alores em listas diferentes que possuem em comum o mesmo índice de localização"
   ]
  },
  {
   "cell_type": "code",
   "execution_count": 11,
   "id": "a78b2f72-2f51-4720-b564-db1d6ff6cae1",
   "metadata": {},
   "outputs": [
    {
     "name": "stdout",
     "output_type": "stream",
     "text": [
      "o valor de copa é R$ 70.50.\n",
      "o valor de salame é R$ 45.00.\n",
      "o valor de pinhão é R$ 9.50.\n",
      "o valor de queijo é R$ 37.00.\n",
      "o valor de vinho é R$ 89.00.\n"
     ]
    }
   ],
   "source": [
    "listamercado = ['COPA', 'SALAME', 'PINHÃO', 'QUEIJO', 'VINHO']\n",
    "valorproduto = [70.5, 45, 9.5, 37, 89]\n",
    "for indice in range(0, len(listamercado)):\n",
    "    print(f'o valor de {listamercado[indice].lower()} ' +\\\n",
    "          f'é R$ {valorproduto[indice]:.2f}.')\n"
   ]
  },
  {
   "cell_type": "code",
   "execution_count": 13,
   "id": "1a6f280f-907b-4939-ba27-59af6726a68e",
   "metadata": {},
   "outputs": [
    {
     "name": "stdout",
     "output_type": "stream",
     "text": [
      "o valor de x nesta iteração é 0\n",
      "o valor de x nesta iteração é 1\n",
      "o valor de x nesta iteração é 2\n",
      "o valor de x nesta iteração é 3\n",
      "o valor de x nesta iteração é 4\n",
      "laço concluído\n"
     ]
    }
   ],
   "source": [
    "x = 0\n",
    "while x < 5:\n",
    "    print(f'o valor de x nesta iteração é {x}')\n",
    "    x+=1 #incrementa o valor de xz\n",
    "else: \n",
    "    print('laço concluído')"
   ]
  },
  {
   "cell_type": "markdown",
   "id": "e878833b-933e-46ac-bd84-0f94cbd54240",
   "metadata": {},
   "source": [
    "comandos break, continue e pass"
   ]
  },
  {
   "cell_type": "code",
   "execution_count": 17,
   "id": "6e866c54-be15-4d4b-b369-a3789fe95481",
   "metadata": {},
   "outputs": [
    {
     "name": "stdout",
     "output_type": "stream",
     "text": [
      "1\n",
      "2\n",
      "3\n",
      "5\n",
      "6\n",
      "7\n",
      "fim\n"
     ]
    }
   ],
   "source": [
    "contador = 0\n",
    "while contador < 10:\n",
    "    contador += 1\n",
    "    if contador == 8:\n",
    "        break\n",
    "    elif contador == 4:\n",
    "        continue\n",
    "    print(contador)\n",
    "print('fim')"
   ]
  }
 ],
 "metadata": {
  "kernelspec": {
   "display_name": "Python 3 (ipykernel)",
   "language": "python",
   "name": "python3"
  },
  "language_info": {
   "codemirror_mode": {
    "name": "ipython",
    "version": 3
   },
   "file_extension": ".py",
   "mimetype": "text/x-python",
   "name": "python",
   "nbconvert_exporter": "python",
   "pygments_lexer": "ipython3",
   "version": "3.9.13"
  }
 },
 "nbformat": 4,
 "nbformat_minor": 5
}
